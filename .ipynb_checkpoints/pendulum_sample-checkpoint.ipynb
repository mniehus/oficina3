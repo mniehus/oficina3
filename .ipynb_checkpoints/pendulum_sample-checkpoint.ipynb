{
 "cells": [
  {
   "cell_type": "markdown",
   "metadata": {},
   "source": [
    "# Simple Pendulum Equation\n",
    "Little notebook to run some checks on `pandas_alive` under development mode, and to generate examples.\n",
    "When using `conda` (either via Anaconda3 or Miniconda3) make sure to activate the right python env for this project in the Anaconda terminal before launching Jupyter; e.g. `conda activate py38-pandas_alive`, followed by `jupyter notebook`.\n",
    "\n",
    "**NOTE**: when setting up custom figures for animations in `Matplotlib` make sure you use the `Figure()` syntax and not `figure()` instance type. The animations in this notebook take twice as long to be generated when changing from '**F**igure' to '**f**igure' syntax.\n",
    "\n",
    "For example, instead of this: `fig, ax = plt.subplots()` try `fig = plt.Figure()` followed by `ax = fig.add_subplot()` \n",
    "OR  `fig = plt.Figure()` and `figs.add_gridspec(rows, columns)`.\n",
    "\n",
    "More on '**F**igure' vs '**f**igure' can be found in this [SO entry](https://stackoverflow.com/questions/28631741/prevent-matplotlib-statefulness/28633419#28633419), and this [other SO entry](https://stackoverflow.com/questions/16334588/create-a-figure-that-is-reference-counted/16337909#16337909)."
   ]
  },
  {
   "cell_type": "markdown",
   "metadata": {
    "heading_collapsed": true
   },
   "source": [
    "### Import Libraries"
   ]
  },
  {
   "cell_type": "code",
   "execution_count": 1,
   "metadata": {
    "hidden": true
   },
   "outputs": [],
   "source": [
    "import platform\n",
    "import sys\n",
    "import numpy as np\n",
    "import pandas as pd\n",
    "import matplotlib.pyplot as plt\n",
    "sys.path.append('../..')\n",
    "import pandas_alive\n",
    "from IPython.display import Video\n",
    "\n",
    "# allow Jupyter to embed plots\n",
    "%matplotlib inline"
   ]
  },
  {
   "cell_type": "code",
   "execution_count": 2,
   "metadata": {
    "hidden": true
   },
   "outputs": [
    {
     "name": "stdout",
     "output_type": "stream",
     "text": [
      "Main package versions in this notebook:\n"
     ]
    },
    {
     "data": {
      "text/html": [
       "<div>\n",
       "<style scoped>\n",
       "    .dataframe tbody tr th:only-of-type {\n",
       "        vertical-align: middle;\n",
       "    }\n",
       "\n",
       "    .dataframe tbody tr th {\n",
       "        vertical-align: top;\n",
       "    }\n",
       "\n",
       "    .dataframe thead th {\n",
       "        text-align: right;\n",
       "    }\n",
       "</style>\n",
       "<table border=\"1\" class=\"dataframe\">\n",
       "  <thead>\n",
       "    <tr style=\"text-align: right;\">\n",
       "      <th></th>\n",
       "      <th>Python</th>\n",
       "      <th>iPython</th>\n",
       "      <th>Pandas</th>\n",
       "      <th>Jupyter</th>\n",
       "      <th>NumPy</th>\n",
       "      <th>MatPlotLib</th>\n",
       "      <th>pandas_alive</th>\n",
       "      <th>Windows</th>\n",
       "    </tr>\n",
       "  </thead>\n",
       "  <tbody>\n",
       "    <tr>\n",
       "      <th>0</th>\n",
       "      <td>3.8.5</td>\n",
       "      <td>7.18.1</td>\n",
       "      <td>1.0.3</td>\n",
       "      <td>6.1.3</td>\n",
       "      <td>1.19.2</td>\n",
       "      <td>3.2.1</td>\n",
       "      <td>0.2.3</td>\n",
       "      <td>10.0.19041</td>\n",
       "    </tr>\n",
       "  </tbody>\n",
       "</table>\n",
       "</div>"
      ],
      "text/plain": [
       "  Python iPython Pandas Jupyter   NumPy MatPlotLib pandas_alive     Windows\n",
       "0  3.8.5  7.18.1  1.0.3   6.1.3  1.19.2      3.2.1        0.2.3  10.0.19041"
      ]
     },
     "execution_count": 2,
     "metadata": {},
     "output_type": "execute_result"
    }
   ],
   "source": [
    "# check that main tools' versions in Python (conda) env match original development:\n",
    "# see project 'requirements.txt' OR 'py38-pandas_alive.yml'\n",
    "# print versions of main tools used\n",
    "pyV = platform.python_version()\n",
    "ipyV = ! ipython --version\n",
    "pandasV = pd.__version__\n",
    "jupV = ! jupyter notebook --version\n",
    "npV = np.__version__\n",
    "import matplotlib\n",
    "pltV = matplotlib.__version__\n",
    "p_a = pandas_alive.version\n",
    "winV = platform.version()\n",
    "\n",
    "ver_info = [[pyV, ipyV[0], pandasV, jupV[0], npV, pltV, p_a, winV]]\n",
    "pkg_list = [\"Python\", \"iPython\", \"Pandas\", \"Jupyter\", \"NumPy\", \"MatPlotLib\", \"pandas_alive\", \"Windows\"]\n",
    "\n",
    "print(\"Main package versions in this notebook:\")\n",
    "version_info = pd.DataFrame(data=ver_info, columns=pkg_list)\n",
    "version_info"
   ]
  },
  {
   "cell_type": "code",
   "execution_count": 3,
   "metadata": {
    "hidden": true
   },
   "outputs": [
    {
     "data": {
      "text/plain": [
       "['pillow', 'ffmpeg', 'ffmpeg_file', 'html']"
      ]
     },
     "execution_count": 3,
     "metadata": {},
     "output_type": "execute_result"
    }
   ],
   "source": [
    "matplotlib.animation.writers.list()"
   ]
  },
  {
   "cell_type": "markdown",
   "metadata": {
    "heading_collapsed": true
   },
   "source": [
    "### Set Pendulum Input Data | Solve equations | Return `Pandas` df for Plotting"
   ]
  },
  {
   "cell_type": "code",
   "execution_count": 4,
   "metadata": {
    "hidden": true
   },
   "outputs": [],
   "source": [
    "# Physical constants\n",
    "g = 9.81\n",
    "L = .4\n",
    "mu = 0.2\n",
    "\n",
    "THETA_0 = np.pi*70 / 180  # init angle = 70degs\n",
    "THETA_DOT_0 = 0  # no init angVel\n",
    "DELTA_T = 0.01  # time stepping\n",
    "T = 1.5  # time period"
   ]
  },
  {
   "cell_type": "code",
   "execution_count": 5,
   "metadata": {
    "hidden": true
   },
   "outputs": [],
   "source": [
    "# Definition of ODE (ordinary differential equation)\n",
    "def get_theta_double_dot(theta, theta_dot):\n",
    "    return -mu * theta_dot - (g / L) * np.sin(theta)"
   ]
  },
  {
   "cell_type": "code",
   "execution_count": 6,
   "metadata": {
    "hidden": true
   },
   "outputs": [],
   "source": [
    "# Solution to the differential equation\n",
    "def pendulum(t):\n",
    "    # initialise changing values\n",
    "    theta = THETA_0\n",
    "    theta_dot = THETA_DOT_0\n",
    "    delta_t = DELTA_T\n",
    "    ang = []\n",
    "    ang_vel = []\n",
    "    ang_acc = []\n",
    "    times = []\n",
    "    for time in np.arange(0, t, delta_t):\n",
    "        theta_double_dot = get_theta_double_dot(\n",
    "            theta, theta_dot\n",
    "        )\n",
    "        theta += theta_dot * delta_t\n",
    "        theta_dot += theta_double_dot * delta_t\n",
    "        times.append(time)\n",
    "        ang.append(theta)\n",
    "        ang_vel.append(theta_dot)\n",
    "        ang_acc.append(theta_double_dot)\n",
    "    data = np.array([ang, ang_vel, ang_acc])\n",
    "    return pd.DataFrame(data=data.T, index=np.array(times),columns=[\"angle\", \"ang_vel\", \"ang_acc\"])"
   ]
  },
  {
   "cell_type": "code",
   "execution_count": 7,
   "metadata": {
    "hidden": true,
    "scrolled": false
   },
   "outputs": [
    {
     "data": {
      "text/html": [
       "<div>\n",
       "<style scoped>\n",
       "    .dataframe tbody tr th:only-of-type {\n",
       "        vertical-align: middle;\n",
       "    }\n",
       "\n",
       "    .dataframe tbody tr th {\n",
       "        vertical-align: top;\n",
       "    }\n",
       "\n",
       "    .dataframe thead th {\n",
       "        text-align: right;\n",
       "    }\n",
       "</style>\n",
       "<table border=\"1\" class=\"dataframe\">\n",
       "  <thead>\n",
       "    <tr style=\"text-align: right;\">\n",
       "      <th></th>\n",
       "      <th>angle</th>\n",
       "      <th>ang_vel</th>\n",
       "      <th>ang_acc</th>\n",
       "    </tr>\n",
       "    <tr>\n",
       "      <th>Time (s)</th>\n",
       "      <th></th>\n",
       "      <th></th>\n",
       "      <th></th>\n",
       "    </tr>\n",
       "  </thead>\n",
       "  <tbody>\n",
       "    <tr>\n",
       "      <th>0.00</th>\n",
       "      <td>1.221730</td>\n",
       "      <td>-0.230460</td>\n",
       "      <td>-23.045962</td>\n",
       "    </tr>\n",
       "    <tr>\n",
       "      <th>0.01</th>\n",
       "      <td>1.219426</td>\n",
       "      <td>-0.460458</td>\n",
       "      <td>-22.999870</td>\n",
       "    </tr>\n",
       "    <tr>\n",
       "      <th>...</th>\n",
       "      <td>...</td>\n",
       "      <td>...</td>\n",
       "      <td>...</td>\n",
       "    </tr>\n",
       "    <tr>\n",
       "      <th>1.48</th>\n",
       "      <td>1.139250</td>\n",
       "      <td>-2.073416</td>\n",
       "      <td>-22.092251</td>\n",
       "    </tr>\n",
       "    <tr>\n",
       "      <th>1.49</th>\n",
       "      <td>1.118516</td>\n",
       "      <td>-2.292035</td>\n",
       "      <td>-21.861867</td>\n",
       "    </tr>\n",
       "  </tbody>\n",
       "</table>\n",
       "<p>150 rows × 3 columns</p>\n",
       "</div>"
      ],
      "text/plain": [
       "             angle   ang_vel    ang_acc\n",
       "Time (s)                               \n",
       "0.00      1.221730 -0.230460 -23.045962\n",
       "0.01      1.219426 -0.460458 -22.999870\n",
       "...            ...       ...        ...\n",
       "1.48      1.139250 -2.073416 -22.092251\n",
       "1.49      1.118516 -2.292035 -21.861867\n",
       "\n",
       "[150 rows x 3 columns]"
      ]
     },
     "execution_count": 7,
     "metadata": {},
     "output_type": "execute_result"
    }
   ],
   "source": [
    "# units used for ref: [\"angle [rad]\", \"ang_vel [rad/s]\", \"ang_acc [rad/s^2]\"]\n",
    "df = pendulum(T)\n",
    "df.index.names = [\"Time (s)\"]\n",
    "pd.set_option(\"display.max_rows\", 4)\n",
    "df"
   ]
  },
  {
   "cell_type": "code",
   "execution_count": 8,
   "metadata": {
    "hidden": true
   },
   "outputs": [
    {
     "data": {
      "text/html": [
       "<div>\n",
       "<style scoped>\n",
       "    .dataframe tbody tr th:only-of-type {\n",
       "        vertical-align: middle;\n",
       "    }\n",
       "\n",
       "    .dataframe tbody tr th {\n",
       "        vertical-align: top;\n",
       "    }\n",
       "\n",
       "    .dataframe thead th {\n",
       "        text-align: right;\n",
       "    }\n",
       "</style>\n",
       "<table border=\"1\" class=\"dataframe\">\n",
       "  <thead>\n",
       "    <tr style=\"text-align: right;\">\n",
       "      <th></th>\n",
       "      <th>dx (m)</th>\n",
       "      <th>dy (m)</th>\n",
       "      <th>ang_vel</th>\n",
       "      <th>size</th>\n",
       "    </tr>\n",
       "    <tr>\n",
       "      <th>Time (s)</th>\n",
       "      <th></th>\n",
       "      <th></th>\n",
       "      <th></th>\n",
       "      <th></th>\n",
       "    </tr>\n",
       "  </thead>\n",
       "  <tbody>\n",
       "    <tr>\n",
       "      <th>0.00</th>\n",
       "      <td>0.375877</td>\n",
       "      <td>-0.136808</td>\n",
       "      <td>0.230460</td>\n",
       "      <td>23.045962</td>\n",
       "    </tr>\n",
       "    <tr>\n",
       "      <th>0.01</th>\n",
       "      <td>0.375561</td>\n",
       "      <td>-0.137674</td>\n",
       "      <td>0.460458</td>\n",
       "      <td>46.045831</td>\n",
       "    </tr>\n",
       "    <tr>\n",
       "      <th>...</th>\n",
       "      <td>...</td>\n",
       "      <td>...</td>\n",
       "      <td>...</td>\n",
       "      <td>...</td>\n",
       "    </tr>\n",
       "    <tr>\n",
       "      <th>1.48</th>\n",
       "      <td>0.363328</td>\n",
       "      <td>-0.167310</td>\n",
       "      <td>2.073416</td>\n",
       "      <td>207.341601</td>\n",
       "    </tr>\n",
       "    <tr>\n",
       "      <th>1.49</th>\n",
       "      <td>0.359781</td>\n",
       "      <td>-0.174807</td>\n",
       "      <td>2.292035</td>\n",
       "      <td>229.203467</td>\n",
       "    </tr>\n",
       "  </tbody>\n",
       "</table>\n",
       "<p>150 rows × 4 columns</p>\n",
       "</div>"
      ],
      "text/plain": [
       "            dx (m)    dy (m)   ang_vel        size\n",
       "Time (s)                                          \n",
       "0.00      0.375877 -0.136808  0.230460   23.045962\n",
       "0.01      0.375561 -0.137674  0.460458   46.045831\n",
       "...            ...       ...       ...         ...\n",
       "1.48      0.363328 -0.167310  2.073416  207.341601\n",
       "1.49      0.359781 -0.174807  2.292035  229.203467\n",
       "\n",
       "[150 rows x 4 columns]"
      ]
     },
     "execution_count": 8,
     "metadata": {},
     "output_type": "execute_result"
    }
   ],
   "source": [
    "# generate dataFrame for animated bubble plot\n",
    "df2 = pd.DataFrame(index=df.index)\n",
    "df2[\"dx (m)\"] = L*np.sin(df[\"angle\"])\n",
    "df2[\"dy (m)\"] = -L*np.cos(df[\"angle\"])\n",
    "df2[\"ang_vel\"] = abs(df[\"ang_vel\"])\n",
    "df2[\"size\"] = df2[\"ang_vel\"]*100  # scale angular vels to get nice size on bubble plot\n",
    "df2"
   ]
  },
  {
   "cell_type": "markdown",
   "metadata": {
    "heading_collapsed": true
   },
   "source": [
    "### `Pandas` static Plots"
   ]
  },
  {
   "cell_type": "code",
   "execution_count": 9,
   "metadata": {
    "hidden": true,
    "scrolled": false
   },
   "outputs": [
    {
     "data": {
      "image/png": "[encoded data removed]",
      "text/plain": [
       "<Figure size 800x400 with 2 Axes>"
      ]
     },
     "metadata": {},
     "output_type": "display_data"
    }
   ],
   "source": [
    "# static pandas plots\n",
    "# \n",
    "# print(plt.style.available)\n",
    "# NOTE: 2 lines below required in Jupyter to switch styles correctly\n",
    "plt.rcParams.update(plt.rcParamsDefault)\n",
    "%matplotlib inline\n",
    "plt.style.use(\"ggplot\")  # set plot style\n",
    "\n",
    "fig, (ax1a, ax2b) = plt.subplots(1,2, figsize=(8,4), dpi=100)   # 1 row, 2 subplots\n",
    "# fig.subplots_adjust(wspace=0.1)      # space subplots in row\n",
    "fig.set_tight_layout(True)\n",
    "fontsize = \"small\"\n",
    "\n",
    "df.plot(ax=ax1a).legend(fontsize=fontsize)\n",
    "ax1a.set_title(\"Outputs vs Time\", fontsize=\"medium\")\n",
    "ax1a.set_xlabel('Time [s]', fontsize=fontsize)\n",
    "ax1a.set_ylabel('Amplitudes', fontsize=fontsize);\n",
    "\n",
    "df.plot(ax=ax2b, x=\"angle\", y=[\"ang_vel\", \"ang_acc\"]).legend(fontsize=fontsize)\n",
    "ax2b.set_title(\"Outputs vs Angle | Phase-Space\", fontsize=\"medium\")\n",
    "ax2b.set_xlabel('Angle [rad]', fontsize=fontsize)\n",
    "ax2b.set_ylabel('Angular Velocity / Acc', fontsize=fontsize);"
   ]
  },
  {
   "cell_type": "code",
   "execution_count": 10,
   "metadata": {
    "hidden": true
   },
   "outputs": [
    {
     "data": {
      "image/png": "[encoded data removed]",
      "text/plain": [
       "<Figure size 432x288 with 2 Axes>"
      ]
     },
     "metadata": {},
     "output_type": "display_data"
    }
   ],
   "source": [
    "# sample scatter plot with colorbar\n",
    "fig, ax = plt.subplots()\n",
    "sc = ax.scatter(df2[\"dx (m)\"], df2[\"dy (m)\"], s=df2[\"size\"]*.1, c=df2[\"ang_vel\"], cmap=\"jet\")\n",
    "cbar = fig.colorbar(sc)\n",
    "cbar.set_label(label=\"ang_vel [rad/s]\", fontsize=\"small\")\n",
    "# sc.set_clim(350, 400)\n",
    "ax.tick_params(labelrotation=0, labelsize=\"medium\")\n",
    "ax_scale = 1.\n",
    "ax.set_xlim(-L*ax_scale, L*ax_scale)\n",
    "ax.set_ylim(-L*ax_scale-0.1, L*ax_scale-0.1)\n",
    "# make axes square: a circle shows as a circle\n",
    "ax.set_aspect(1/ax.get_data_ratio())\n",
    "ax.arrow(0, 0, df2[\"dx (m)\"].iloc[-1], df2[\"dy (m)\"].iloc[-1],\n",
    "    color=\"dimgray\", ls=\":\", lw=2.5, width=.0, head_width=0, zorder=-1\n",
    ")\n",
    "ax.text(0, 0.15 , s=\"size and colour of pendulum bob\\nbased on pd column\\nfor angular velocity\",\n",
    "       ha='center', va='center');"
   ]
  },
  {
   "cell_type": "markdown",
   "metadata": {},
   "source": [
    "### `pandas_alive` Animations"
   ]
  },
  {
   "cell_type": "markdown",
   "metadata": {},
   "source": [
    "#### LineChart Animation"
   ]
  },
  {
   "cell_type": "code",
   "execution_count": 11,
   "metadata": {
    "scrolled": false
   },
   "outputs": [
    {
     "name": "stdout",
     "output_type": "stream",
     "text": [
      "Generating LineChart, plotting ['angle', 'ang_vel', 'ang_acc']\n"
     ]
    },
    {
     "data": {
      "application/vnd.jupyter.widget-view+json": {
       "model_id": "5d41409229b2498e94bbd6468813d0d2",
       "version_major": 2,
       "version_minor": 0
      },
      "text/plain": [
       "HBox(children=(FloatProgress(value=0.0, max=150.0), HTML(value='')))"
      ]
     },
     "metadata": {},
     "output_type": "display_data"
    },
    {
     "name": "stdout",
     "output_type": "stream",
     "text": [
      "\n"
     ]
    },
    {
     "data": {
      "text/html": [
       "<video src=\"./pend-line.mp4\" controls muted autoplay  >\n",
       "      Your browser does not support the <code>video</code> element.\n",
       "    </video>"
      ],
      "text/plain": [
       "<IPython.core.display.Video object>"
      ]
     },
     "execution_count": 11,
     "metadata": {},
     "output_type": "execute_result"
    }
   ],
   "source": [
    "# set up and generate animated line plot\n",
    "# \n",
    "dpi = 100\n",
    "ax_scale = 1.1\n",
    "figsize = (3,3)\n",
    "fontsize = \"small\"\n",
    "\n",
    "# set up figure to pass onto `pandas_alive`\n",
    "# NOTE: by using Figure (capital F) instead of figure() `FuncAnimation` seems to run twice as fast!\n",
    "# fig1, ax1 = plt.subplots()\n",
    "fig1 = plt.Figure()\n",
    "ax1 = fig1.add_subplot()\n",
    "fig1.set_size_inches(figsize)\n",
    "ax1.set_title(\"Simple pendulum animation, L=\"+str(L)+\"m\", fontsize=\"medium\")\n",
    "ax1.set_xlabel(\"Time (s)\", color='dimgray', fontsize=fontsize)\n",
    "ax1.set_ylabel(\"Amplitudes\", color='dimgray', fontsize=fontsize)\n",
    "ax1.tick_params(labelsize=fontsize)\n",
    "\n",
    "\n",
    "# pandas_alive\n",
    "line_chart = df.plot_animated(filename=\"pend-line.mp4\", kind='line', period_label={'x':0.05,'y':0.9},\n",
    "                 steps_per_period=1, interpolate_period=False, period_length=50, period_fmt='Time:{x:10.2f}',\n",
    "                 enable_progress_bar=True, fixed_max=True, dpi=100, fig=fig1\n",
    "                )\n",
    "plt.close()\n",
    "\n",
    "Video('./pend-line.mp4', html_attributes=\"controls muted autoplay\")"
   ]
  },
  {
   "cell_type": "markdown",
   "metadata": {},
   "source": [
    "#### ScatterChart Animation"
   ]
  },
  {
   "cell_type": "code",
   "execution_count": 12,
   "metadata": {
    "scrolled": false
   },
   "outputs": [
    {
     "name": "stdout",
     "output_type": "stream",
     "text": [
      "Generating ScatterChart, plotting ['angle', 'ang_vel', 'ang_acc']\n"
     ]
    },
    {
     "data": {
      "application/vnd.jupyter.widget-view+json": {
       "model_id": "6635e4b65a0d40b8b5f69467f8e62ad2",
       "version_major": 2,
       "version_minor": 0
      },
      "text/plain": [
       "HBox(children=(FloatProgress(value=0.0, max=150.0), HTML(value='')))"
      ]
     },
     "metadata": {},
     "output_type": "display_data"
    },
    {
     "name": "stdout",
     "output_type": "stream",
     "text": [
      "\n",
      "Points size follows one of the pd columns: ang_vel\n"
     ]
    },
    {
     "data": {
      "text/html": [
       "<video src=\"./pend-scatter.mp4\" controls muted autoplay  >\n",
       "      Your browser does not support the <code>video</code> element.\n",
       "    </video>"
      ],
      "text/plain": [
       "<IPython.core.display.Video object>"
      ]
     },
     "execution_count": 12,
     "metadata": {},
     "output_type": "execute_result"
    }
   ],
   "source": [
    "# set up and generate animated scatter plot\n",
    "# \n",
    "\n",
    "# set up figure to pass onto `pandas_alive`\n",
    "# NOTE: by using Figure (capital F) instead of figure() `FuncAnimation` seems to run twice as fast!\n",
    "fig1sc = plt.Figure()\n",
    "ax1sc = fig1sc.add_subplot()\n",
    "fig1sc.set_size_inches(figsize)\n",
    "ax1sc.set_title(\"Simple pendulum animation, L=\"+str(L)+\"m\", fontsize=\"medium\")\n",
    "ax1sc.set_xlabel(\"Time (s)\", color='dimgray', fontsize=fontsize)\n",
    "ax1sc.set_ylabel(\"Amplitudes\", color='dimgray', fontsize=fontsize)\n",
    "ax1sc.tick_params(labelsize=fontsize)\n",
    "\n",
    "\n",
    "# pandas_alive\n",
    "scatter_chart = df.plot_animated(filename=\"pend-scatter.mp4\", kind='scatter', period_label={'x':0.05,'y':0.9},\n",
    "                 steps_per_period=1, interpolate_period=False, period_length=50, period_fmt='Time:{x:10.2f}',\n",
    "                 enable_progress_bar=True, fixed_max=True, dpi=100, fig=fig1sc, size=\"ang_vel\"\n",
    "                )\n",
    "plt.close()\n",
    "\n",
    "print(\"Points size follows one of the pd columns: ang_vel\")\n",
    "Video('./pend-scatter.mp4', html_attributes=\"controls muted autoplay\")"
   ]
  },
  {
   "cell_type": "markdown",
   "metadata": {},
   "source": [
    "#### BarChartRace Animation"
   ]
  },
  {
   "cell_type": "code",
   "execution_count": 13,
   "metadata": {},
   "outputs": [
    {
     "name": "stdout",
     "output_type": "stream",
     "text": [
      "Generating BarChartRace, plotting ['angle', 'ang_vel', 'ang_acc']\n"
     ]
    },
    {
     "data": {
      "application/vnd.jupyter.widget-view+json": {
       "model_id": "419cb1ff272141649b28a8a140785ca2",
       "version_major": 2,
       "version_minor": 0
      },
      "text/plain": [
       "HBox(children=(FloatProgress(value=0.0, max=150.0), HTML(value='')))"
      ]
     },
     "metadata": {},
     "output_type": "display_data"
    },
    {
     "name": "stdout",
     "output_type": "stream",
     "text": [
      "\n"
     ]
    },
    {
     "data": {
      "text/html": [
       "<video src=\"./pend-race.mp4\" controls muted autoplay  >\n",
       "      Your browser does not support the <code>video</code> element.\n",
       "    </video>"
      ],
      "text/plain": [
       "<IPython.core.display.Video object>"
      ]
     },
     "execution_count": 13,
     "metadata": {},
     "output_type": "execute_result"
    }
   ],
   "source": [
    "# set up and generate animated bar race chart\n",
    "# \n",
    "# set up figure to pass onto `pandas_alive`\n",
    "# NOTE: by using Figure (capital F) instead of figure() `FuncAnimation` seems to run twice as fast!\n",
    "fig2 = plt.Figure()\n",
    "ax2 = fig2.add_subplot()\n",
    "fig2.set_size_inches(figsize)\n",
    "ax2.set_title(\"Simple pendulum animation, L=\"+str(L)+\"m\", fontsize=\"medium\")\n",
    "ax2.set_xlabel(\"Amplitudes\", color='dimgray', fontsize=fontsize)\n",
    "ax2.set_ylabel(\"\", color='dimgray', fontsize=\"x-small\")\n",
    "ax2.tick_params(labelsize=fontsize)\n",
    "\n",
    "\n",
    "# pandas_alive\n",
    "race_chart = df.plot_animated(filename=\"pend-race.mp4\", kind='race', period_label={'x':0.05,'y':0.9},\n",
    "                 steps_per_period=1, interpolate_period=False, period_length=50, period_fmt='Time:{x:10.2f}',\n",
    "                 enable_progress_bar=True, fixed_max=False, dpi=100, fig=fig2\n",
    "                )\n",
    "plt.close()\n",
    "\n",
    "Video('./pend-race.mp4', html_attributes=\"controls muted autoplay\")"
   ]
  },
  {
   "cell_type": "markdown",
   "metadata": {},
   "source": [
    "#### BubbleChart Animation"
   ]
  },
  {
   "cell_type": "code",
   "execution_count": 18,
   "metadata": {
    "scrolled": false
   },
   "outputs": [
    {
     "name": "stdout",
     "output_type": "stream",
     "text": [
      "Generating BubbleChart, plotting ['dx (m)', 'dy (m)', 'ang_vel', 'size']\n"
     ]
    },
    {
     "data": {
      "application/vnd.jupyter.widget-view+json": {
       "model_id": "91b60399e3f34dab9be513c27a53b6e9",
       "version_major": 2,
       "version_minor": 0
      },
      "text/plain": [
       "HBox(children=(FloatProgress(value=0.0, max=150.0), HTML(value='')))"
      ]
     },
     "metadata": {},
     "output_type": "display_data"
    },
    {
     "name": "stdout",
     "output_type": "stream",
     "text": [
      "\n",
      "Bubble size & colour animates with pd data column for ang_vel.\n"
     ]
    },
    {
     "data": {
      "text/html": [
       "<video src=\"./pend-bubble.mp4\" controls muted autoplay  >\n",
       "      Your browser does not support the <code>video</code> element.\n",
       "    </video>"
      ],
      "text/plain": [
       "<IPython.core.display.Video object>"
      ]
     },
     "execution_count": 18,
     "metadata": {},
     "output_type": "execute_result"
    }
   ],
   "source": [
    "# set up and generate bubble animated plot\n",
    "# \n",
    "\n",
    "# set up figure to pass onto `pandas_alive`\n",
    "# NOTE: by using Figure (capital F) instead of figure() `FuncAnimation` seems to run twice as fast!\n",
    "fig3 = plt.Figure()\n",
    "ax3 = fig3.add_subplot()\n",
    "fig3.set_size_inches(figsize)\n",
    "ax3.set_title(\"Simple pendulum animation, L=\"+str(L)+\"m\", fontsize=\"medium\")\n",
    "ax3.set_xlabel(\"Hor Displacement (m)\", color='dimgray', fontsize=fontsize)\n",
    "ax3.set_ylabel(\"Ver Displacement (m)\", color='dimgray', fontsize=fontsize)\n",
    "# limits & ratio below get the graph square\n",
    "ax3.set_xlim(-L*ax_scale, L*ax_scale)\n",
    "ax3.set_ylim(-L*ax_scale-0.1, L*ax_scale-0.1)\n",
    "ratio = 1.  # this is visual ratio of axes\n",
    "ax3.set_aspect(ratio/ax3.get_data_ratio())\n",
    "\n",
    "ax3.arrow(0, 0, df2[\"dx (m)\"].iloc[-1], df2[\"dy (m)\"].iloc[-1],\n",
    "    color=\"dimgray\", ls=\":\", lw=1, width=.0, head_width=0, zorder=-1)\n",
    "\n",
    "\n",
    "# pandas_alive\n",
    "bubble_chart = df2.plot_animated(\n",
    "    kind=\"bubble\", filename=\"pend-bubble.gif\",\n",
    "    x_data_label=\"dx (m)\", y_data_label=\"dy (m)\", \n",
    "    size_data_label=\"size\", color_data_label=\"ang_vel\", cmap=\"jet\",\n",
    "    period_label={'x':0.05,'y':0.9}, vmin=None, vmax=None,\n",
    "    steps_per_period=1, interpolate_period=False, period_length=50, period_fmt='Time:{x:10.2f}s',\n",
    "    enable_progress_bar=True, fixed_max=False, dpi=dpi, fig=fig3\n",
    ")\n",
    "plt.close()\n",
    "\n",
    "print(\"Bubble size & colour animates with pd data column for ang_vel.\")\n",
    "Video('./pend-bubble.mp4', html_attributes=\"controls muted autoplay\")"
   ]
  },
  {
   "cell_type": "markdown",
   "metadata": {},
   "source": [
    "#### Multiple Plots Animations"
   ]
  },
  {
   "cell_type": "code",
   "execution_count": 15,
   "metadata": {
    "scrolled": false
   },
   "outputs": [
    {
     "data": {
      "application/vnd.jupyter.widget-view+json": {
       "model_id": "faa6b0eb4a974e8bb72dec4c2a3c917e",
       "version_major": 2,
       "version_minor": 0
      },
      "text/plain": [
       "HBox(children=(FloatProgress(value=0.0, max=150.0), HTML(value='')))"
      ]
     },
     "metadata": {},
     "output_type": "display_data"
    },
    {
     "name": "stdout",
     "output_type": "stream",
     "text": [
      "\n"
     ]
    },
    {
     "data": {
      "text/html": [
       "<video src=\"./pend-combined.mp4\" controls muted autoplay  >\n",
       "      Your browser does not support the <code>video</code> element.\n",
       "    </video>"
      ],
      "text/plain": [
       "<IPython.core.display.Video object>"
      ]
     },
     "execution_count": 15,
     "metadata": {},
     "output_type": "execute_result"
    }
   ],
   "source": [
    "# Combined plots\n",
    "# \n",
    "fontsize=\"x-small\"\n",
    "# Otherwise titles overlap and subplots_adjust does nothing\n",
    "from matplotlib import rcParams\n",
    "rcParams.update({\"figure.autolayout\": False})\n",
    "\n",
    "figs = plt.Figure(figsize=(9, 4), dpi=100)\n",
    "figs.subplots_adjust(wspace=0.1)\n",
    "gs = figs.add_gridspec(2, 2)\n",
    "\n",
    "ax1 = figs.add_subplot(gs[0, 0])\n",
    "ax1.set_xlabel(\"Time(s)\", color='dimgray', fontsize=fontsize)\n",
    "ax1.set_ylabel(\"Amplitudes\", color='dimgray', fontsize=fontsize)\n",
    "ax1.tick_params(labelsize=fontsize)\n",
    "\n",
    "ax2 = figs.add_subplot(gs[1, 0])\n",
    "ax2.set_xlabel(\"Amplitudes\", color='dimgray', fontsize=fontsize)\n",
    "ax2.set_ylabel(\"\", color='dimgray', fontsize=fontsize)\n",
    "ax2.tick_params(labelsize=fontsize)\n",
    "\n",
    "ax3 = figs.add_subplot(gs[:, 1])\n",
    "ax3.set_xlabel(\"Hor Displacement (m)\", color='dimgray', fontsize=fontsize)\n",
    "ax3.set_ylabel(\"Ver Displacement (m)\", color='dimgray', fontsize=fontsize)\n",
    "ax3.tick_params(labelsize=fontsize)\n",
    "# limits & ratio below get the graph square\n",
    "ax3.set_xlim(-L*ax_scale, L*ax_scale)\n",
    "ax3.set_ylim(-L*ax_scale-0.1, L*ax_scale-0.1)\n",
    "ratio = 1.  # this is visual ratio of axes\n",
    "ax3.set_aspect(ratio/ax3.get_data_ratio())\n",
    "\n",
    "line_chart.ax = ax1\n",
    "race_chart.ax = ax2\n",
    "bubble_chart.ax = ax3\n",
    "\n",
    "\n",
    "plots = [line_chart, race_chart, bubble_chart]\n",
    "# pandas_alive combined using custom figure\n",
    "pandas_alive.animate_multiple_plots(\n",
    "    filename='./pend-combined.mp4', plots=plots, custom_fig=figs, dpi=100, enable_progress_bar=True,\n",
    "    adjust_subplot_left=0.2, adjust_subplot_right=None,\n",
    "    title=\"Simple pendulum animations, L=\"+str(L)+\"m\", title_fontsize=\"medium\"\n",
    ")\n",
    "plt.close()\n",
    "\n",
    "Video('./pend-combined.mp4', html_attributes=\"controls muted autoplay\")"
   ]
  },
  {
   "cell_type": "code",
   "execution_count": 19,
   "metadata": {
    "scrolled": false
   },
   "outputs": [
    {
     "data": {
      "application/vnd.jupyter.widget-view+json": {
       "model_id": "e128fd0fdef5420aa2cef4b2261ba016",
       "version_major": 2,
       "version_minor": 0
      },
      "text/plain": [
       "HBox(children=(FloatProgress(value=0.0, max=150.0), HTML(value='')))"
      ]
     },
     "metadata": {},
     "output_type": "display_data"
    },
    {
     "name": "stdout",
     "output_type": "stream",
     "text": [
      "\n"
     ]
    },
    {
     "data": {
      "text/html": [
       "<video src=\"./pend-combined-2.mp4\" controls muted autoplay  >\n",
       "      Your browser does not support the <code>video</code> element.\n",
       "    </video>"
      ],
      "text/plain": [
       "<IPython.core.display.Video object>"
      ]
     },
     "execution_count": 19,
     "metadata": {},
     "output_type": "execute_result"
    }
   ],
   "source": [
    "# This is here for testing that re-using axes with multiple plots behaves itself\n",
    "# \n",
    "scatter_chart.ax = ax1sc\n",
    "race_chart.ax = ax2\n",
    "bubble_chart.ax = ax3\n",
    "\n",
    "figs2 = figs\n",
    "plots = [scatter_chart, race_chart, bubble_chart]\n",
    "# pandas_alive combined using custom figure\n",
    "pandas_alive.animate_multiple_plots(\n",
    "    filename='./pend-combined-2.gif', plots=plots, custom_fig=figs2, dpi=100, enable_progress_bar=True,\n",
    "    adjust_subplot_left=0.2, adjust_subplot_right=None,\n",
    "    title=\"Simple pendulum animations, L=\"+str(L)+\"m\", title_fontsize=\"medium\"\n",
    ")\n",
    "plt.close()\n",
    "\n",
    "Video('./pend-combined-2.mp4', html_attributes=\"controls muted autoplay\")"
   ]
  },
  {
   "cell_type": "code",
   "execution_count": 17,
   "metadata": {},
   "outputs": [
    {
     "data": {
      "text/plain": [
       "'FPS: 20.0 | Time: 0.05s'"
      ]
     },
     "metadata": {},
     "output_type": "display_data"
    }
   ],
   "source": [
    "# checks on expected video FPS and Period\n",
    "period_length = 50\n",
    "steps_per_period = 1\n",
    "fps = 1000 / period_length * steps_per_period\n",
    "display(\"FPS: \"+str(fps)+\" | Time: \"+str(1/fps)+\"s\")"
   ]
  }
 ],
 "metadata": {
  "hide_input": false,
  "kernelspec": {
   "display_name": "Python 3",
   "language": "python",
   "name": "python3"
  },
  "language_info": {
   "codemirror_mode": {
    "name": "ipython",
    "version": 3
   },
   "file_extension": ".py",
   "mimetype": "text/x-python",
   "name": "python",
   "nbconvert_exporter": "python",
   "pygments_lexer": "ipython3",
   "version": "3.8.5"
  }
 },
 "nbformat": 4,
 "nbformat_minor": 4
}
