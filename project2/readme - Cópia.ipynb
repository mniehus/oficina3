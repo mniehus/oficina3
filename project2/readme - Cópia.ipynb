{
 "cells": [
  {
   "cell_type": "markdown",
   "id": "df1ed26d",
   "metadata": {},
   "source": [
    "# Project 2"
   ]
  },
  {
   "cell_type": "markdown",
   "id": "1105290c",
   "metadata": {},
   "source": []
  }
 ],
 "metadata": {
  "language_info": {
   "name": "python"
  }
 },
 "nbformat": 4,
 "nbformat_minor": 5
}
