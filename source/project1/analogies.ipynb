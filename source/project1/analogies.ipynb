{
 "cells": [
  {
   "cell_type": "markdown",
   "id": "c99a2f80",
   "metadata": {
    "slideshow": {
     "slide_type": "slide"
    }
   },
   "source": [
    "# Analogias e estimativas\n",
    "\n",
    "\n",
    "**Analogia linear-rotacional**\n",
    "\n",
    "| Quantity      | Linear                         | Angular                         |\n",
    "|---------------|--------------------------------|----------------------------------|\n",
    "| Position      | $x$                            | $\\theta$                         |\n",
    "| Velocity      | $v = \\frac{dx}{dt}$            | $\\omega = \\frac{d\\theta}{dt}$    |\n",
    "| Acceleration  | $a = \\frac{dv}{dt}$            | $\\alpha = \\frac{d\\omega}{dt}$    |\n",
    "\n"
   ]
  },
  {
   "cell_type": "markdown",
   "id": "907d330a",
   "metadata": {
    "slideshow": {
     "slide_type": "slide"
    }
   },
   "source": [
    "\n",
    "**Newton’s Laws for Linear Motion**\n",
    "$$ \n",
    "F = m a\n",
    "$$ \n",
    "\n",
    "- $F$: Force (N)  \n",
    "- $m$: Mass (kg)  \n",
    "- $a$: Acceleration (m/s²)\n",
    "\n",
    "**Newton’s Laws for Rotational Motion**\n",
    "$$ \n",
    "\\tau = I \\alpha\n",
    "$$ \n",
    "\n",
    "- $\\tau$: Torque (Nm)  \n",
    "- $I$: Moment of inertia (kg·m²)  \n",
    "- $\\alpha$: Angular acceleration (rad/s²)\n",
    "\n",
    "To rotate a body with **friction torque** $\\tau_f$:\n",
    "\n",
    "$$ \n",
    "\\tau_{\\text{net}} = I \\alpha + \\tau_f\n",
    "$$ \n",
    "\n",
    "A spinning disk induces a **reaction torque**:\n",
    "\n",
    "$$ \n",
    "\\tau_{\\text{reaction}} = -I \\alpha\n",
    "$$ \n",
    "\n",
    "Note the correspondence of linear vs angular motion parameters. \n"
   ]
  },
  {
   "cell_type": "markdown",
   "id": "5536885b",
   "metadata": {
    "slideshow": {
     "slide_type": "slide"
    }
   },
   "source": [
    "**Analogia mecânica-elétrica**\n",
    "\n",
    "Power conversion\n",
    "\n",
    "In a rotating system, energy and power are governed by the following key relations.\n",
    "\n",
    "The **rotational kinetic energy** of a spinning body is:\n",
    "\n",
    " $$ \n",
    "E_{\\text{rot}} = \\frac{1}{2} I \\omega^2\n",
    " $$ \n",
    "\n",
    "where:\n",
    "- $I$ is the moment of inertia (in kg·m²),\n",
    "- $\\omega$ is the angular velocity (in rad/s).\n",
    "\n",
    "The **mechanical power** delivered to or from a rotating body is:\n",
    "\n",
    " $$ \n",
    "P_{\\text{mech}} = \\tau \\cdot \\omega\n",
    " $$ \n",
    "\n",
    "where:\n",
    "- $\\tau$ is the torque (in N·m),\n",
    "- $\\omega$ is the angular velocity (in rad/s).\n",
    "\n",
    "In electromechanical systems (e.g. DC motor + disk), the mechanical power must come from electrical input power. If $\\eta$ is the efficiency of conversion:\n",
    "\n",
    "$$ \n",
    "P_{\\text{elec}} = \\frac{P_{\\text{mech}}}{\\eta}\n",
    "$$ \n",
    "\n",
    "and\n",
    "\n",
    "$$ \n",
    "P_{\\text{elec}} = V \\cdot I\n",
    "$$ \n",
    "\n",
    "where:\n",
    "- $V$ is the supply voltage (in volts),\n",
    "- $I$ is the current (in amperes),\n",
    "- $\\eta$ is the efficiency (e.g. 0.8 for 80%).\n",
    "\n"
   ]
  },
  {
   "cell_type": "markdown",
   "id": "0c530a51",
   "metadata": {
    "slideshow": {
     "slide_type": "slide"
    }
   },
   "source": [
    "**Numerical Example**\n",
    "\n",
    "Let’s consider a **solid disk** with:\n",
    "- mass $m = 1$ kg,\n",
    "- radius $r = 0.05$ m (10 cm diameter),\n",
    "- angular velocity $\\omega = 2\\pi$ rad/s (i.e., 1 turn/s),\n",
    "- angular acceleration $\\alpha = 2\\pi$ rad/s²,\n",
    "- efficiency $\\eta = 0.8$.\n",
    "\n",
    "1. Moment of Inertia of the Disk:\n",
    "\n",
    " $$ \n",
    "I = \\frac{1}{2} m r^2 = \\frac{1}{2} \\cdot 1 \\cdot (0.05)^2 = 0.00125 \\ kg·m^2\n",
    " $$ \n",
    "\n",
    "\n",
    "2. Kinetic Energy of Rotation:\n",
    "\n",
    " $$ \n",
    "E_{\\text{rot}} = \\frac{1}{2} I \\omega^2 = \\frac{1}{2} \\cdot 0.00125 \\cdot (2\\pi)^2 \\approx 0.049 \\ \\text{J}\n",
    " $$ \n",
    "\n",
    "\n",
    "3. Required Torque:\n",
    "Assuming angular acceleration $\\alpha = 2\\pi$ rad/s²:\n",
    "\n",
    " $$ \n",
    "\\tau = I \\cdot \\alpha = 0.00125 \\cdot 2\\pi \\approx 0.00785 \\ N·m\n",
    " $$ \n",
    "\n",
    "\n",
    "4. Mechanical Power:\n",
    "\n",
    " $$ \n",
    "P_{\\text{mech}} = \\tau \\cdot \\omega = 0.00785 \\cdot 2\\pi \\approx 0.049 \\ \\text{W}\n",
    " $$ \n",
    "\n",
    "\n",
    "5. Electrical Power Required:\n",
    "With 80% efficiency:\n",
    "\n",
    " $$ \n",
    "P_{\\text{elec}} = \\frac{P_{\\text{mech}}}{\\eta} = \\frac{0.049}{0.8} \\approx 0.061 \\ \\text{W}\n",
    " $$ \n",
    "\n",
    "\n",
    "This example highlights the relevance of inertia and torque in system design. Note also that the power levels required to drive mechanical motion are typically beyond what basic microcontrollers can provide, and as such it is required to use a transistor based driver circuit between the Arduino and the Dc motors. \n",
    "\n"
   ]
  }
 ],
 "metadata": {
  "language_info": {
   "name": "python"
  }
 },
 "nbformat": 4,
 "nbformat_minor": 5
}
