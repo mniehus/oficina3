{
 "cells": [
  {
   "cell_type": "markdown",
   "id": "2ce0d28d",
   "metadata": {},
   "source": [
    "# Resources"
   ]
  },
  {
   "cell_type": "markdown",
   "id": "9e110eb5",
   "metadata": {},
   "source": [
    "## Tutorials"
   ]
  },
  {
   "cell_type": "markdown",
   "id": "48c5e48c",
   "metadata": {},
   "source": [
    "## Repository"
   ]
  },
  {
   "cell_type": "markdown",
   "id": "611febb4",
   "metadata": {},
   "source": [
    "## Technical data"
   ]
  },
  {
   "cell_type": "markdown",
   "id": "c8113028",
   "metadata": {},
   "source": []
  }
 ],
 "metadata": {
  "language_info": {
   "name": "python"
  }
 },
 "nbformat": 4,
 "nbformat_minor": 5
}
