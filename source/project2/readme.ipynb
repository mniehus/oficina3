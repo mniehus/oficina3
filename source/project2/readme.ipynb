{
 "cells": [
  {
   "cell_type": "markdown",
   "id": "df1ed26d",
   "metadata": {},
   "source": [
    "# Zumo-32U4"
   ]
  },
  {
   "cell_type": "markdown",
   "id": "1105290c",
   "metadata": {},
   "source": []
  },
  {
   "cell_type": "markdown",
   "id": "70e22338",
   "metadata": {},
   "source": [
    "## em breve"
   ]
  },
  {
   "cell_type": "markdown",
   "id": "5edc94ca",
   "metadata": {},
   "source": []
  }
 ],
 "metadata": {
  "language_info": {
   "name": "python"
  }
 },
 "nbformat": 4,
 "nbformat_minor": 5
}
