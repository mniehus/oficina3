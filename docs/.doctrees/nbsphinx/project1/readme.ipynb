{
 "cells": [
  {
   "cell_type": "markdown",
   "id": "2ce0d28d",
   "metadata": {},
   "source": [
    "# Aeropendulum"
   ]
  },
  {
   "cell_type": "markdown",
   "id": "675ef8e2",
   "metadata": {},
   "source": [
    "## em breve"
   ]
  },
  {
   "cell_type": "markdown",
   "id": "61f9dc06",
   "metadata": {},
   "source": []
  }
 ],
 "metadata": {
  "language_info": {
   "name": "python"
  }
 },
 "nbformat": 4,
 "nbformat_minor": 5
}
