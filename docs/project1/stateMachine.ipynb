{
 "cells": [
  {
   "cell_type": "markdown",
   "id": "2ce0d28d",
   "metadata": {},
   "source": [
    "# State machines"
   ]
  },
  {
   "cell_type": "markdown",
   "id": "675ef8e2",
   "metadata": {},
   "source": [
    "(em breve)"
   ]
  },
  {
   "cell_type": "code",
   "execution_count": null,
   "id": "222303dc",
   "metadata": {},
   "outputs": [],
   "source": []
  },
  {
   "cell_type": "markdown",
   "id": "96490e17",
   "metadata": {},
   "source": [
    "Topics:\n",
    "- Control\n",
    "- PID Control\n",
    "- Modelling a pendulum\n",
    "- Simulating a pendulum\n",
    "- Modelling a motor\n",
    "- Simulating a motor\n",
    "- Modelling an aeropendulum\n",
    "- Simulating an aeropendulum\n",
    "- Driving a motor\n",
    "- Reading a sensor\n",
    "- Creating an aeropendulum"
   ]
  },
  {
   "cell_type": "markdown",
   "id": "65b8e323",
   "metadata": {},
   "source": []
  }
 ],
 "metadata": {
  "language_info": {
   "name": "python"
  }
 },
 "nbformat": 4,
 "nbformat_minor": 5
}
