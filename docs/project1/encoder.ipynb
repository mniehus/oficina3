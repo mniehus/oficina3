{
 "cells": [
  {
   "cell_type": "markdown",
   "id": "2ce0d28d",
   "metadata": {},
   "source": [
    "# Sensors - encoders"
   ]
  },
  {
   "cell_type": "markdown",
   "id": "9427a7c0",
   "metadata": {},
   "source": [
    "### Sensor basics\n",
    "\n",
    "**Magnetic Position Sensor (AS5600)**\n",
    "\n",
    "- Contactless rotary sensor using a magnetic field.\n",
    "- Measures absolute angle with high resolution.\n",
    "- Outputs via I2C or PWM.\n",
    "\n",
    " [AS5600 Datasheet](https://ams.com/as5600)"
   ]
  },
  {
   "cell_type": "markdown",
   "id": "65b8e323",
   "metadata": {},
   "source": []
  }
 ],
 "metadata": {
  "language_info": {
   "name": "python"
  }
 },
 "nbformat": 4,
 "nbformat_minor": 5
}
