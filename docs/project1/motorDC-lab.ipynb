{
 "cells": [
  {
   "cell_type": "markdown",
   "id": "b16f6916",
   "metadata": {},
   "source": [
    "# Motor DC (drive)"
   ]
  },
  {
   "cell_type": "markdown",
   "id": "10b19a50",
   "metadata": {},
   "source": [
    "\n",
    "![Motos in the lab](img/motors-lab.jpeg)\n",
    "\n",
    "![Motor in the robot car - Pololu - 75 1 Micro Metal Gearmotor HP 6V with Extended Motor Shaft](<img/Pololu - 75 1 Micro Metal Gearmotor HP 6V with Extended Motor Shaft.png>)\n",
    "\n",
    "![Driver circuit for DC motor control](img/driver.jpg)"
   ]
  },
  {
   "cell_type": "markdown",
   "id": "ed42eb08",
   "metadata": {},
   "source": [
    "to be continued"
   ]
  }
 ],
 "metadata": {
  "kernelspec": {
   "display_name": "Python 3",
   "language": "python",
   "name": "python3"
  },
  "language_info": {
   "codemirror_mode": {
    "name": "ipython",
    "version": 3
   },
   "file_extension": ".py",
   "mimetype": "text/x-python",
   "name": "python",
   "nbconvert_exporter": "python",
   "pygments_lexer": "ipython3",
   "version": "3.13.3"
  }
 },
 "nbformat": 4,
 "nbformat_minor": 5
}
