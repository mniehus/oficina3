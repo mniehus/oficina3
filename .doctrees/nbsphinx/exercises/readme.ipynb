{
 "cells": [
  {
   "cell_type": "markdown",
   "id": "2ce0d28d",
   "metadata": {},
   "source": [
    "# Exercises"
   ]
  },
  {
   "cell_type": "markdown",
   "id": "c8113028",
   "metadata": {},
   "source": []
  }
 ],
 "metadata": {
  "language_info": {
   "name": "python"
  }
 },
 "nbformat": 4,
 "nbformat_minor": 5
}
